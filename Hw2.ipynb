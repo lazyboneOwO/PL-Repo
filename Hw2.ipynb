{
  "nbformat": 4,
  "nbformat_minor": 0,
  "metadata": {
    "colab": {
      "provenance": [],
      "authorship_tag": "ABX9TyORGWZ+34UeYVCCeIB1bhj7",
      "include_colab_link": true
    },
    "kernelspec": {
      "name": "python3",
      "display_name": "Python 3"
    },
    "language_info": {
      "name": "python"
    }
  },
  "cells": [
    {
      "cell_type": "markdown",
      "metadata": {
        "id": "view-in-github",
        "colab_type": "text"
      },
      "source": [
        "<a href=\"https://colab.research.google.com/github/lazyboneOwO/PL-Repo/blob/main/Hw2.ipynb\" target=\"_parent\"><img src=\"https://colab.research.google.com/assets/colab-badge.svg\" alt=\"Open In Colab\"/></a>"
      ]
    },
    {
      "cell_type": "code",
      "execution_count": null,
      "metadata": {
        "colab": {
          "base_uri": "https://localhost:8080/"
        },
        "id": "vF4r_A8oKiCZ",
        "outputId": "0d26c5ab-d994-4e32-cd61-e03f920170d9"
      },
      "outputs": [
        {
          "output_type": "stream",
          "name": "stdout",
          "text": [
            "成功讀取 'hw2' 的 'Sheet1' 工作表。\n",
            "原始資料:\n",
            "沒有需要更新的總成績。\n"
          ]
        }
      ],
      "source": [
        "import gspread\n",
        "from oauth2client.service_account import ServiceAccountCredentials\n",
        "\n",
        "SERVICE_ACCOUNT_KEY_FILE = 'service_account.json'\n",
        "SPREADSHEET_NAME = 'hw2'\n",
        "WORKSHEET_NAME = 'Sheet1'\n",
        "\n",
        "def calculate_total_score(平时成绩, 期末成绩):\n",
        "    try:\n",
        "        平时成绩 = float(平时成绩)\n",
        "        期末成绩 = float(期末成绩)\n",
        "        total_score = (平时成绩 * 0.4) + (期末成绩 * 0.6)\n",
        "        return round(total_score, 2)\n",
        "    except ValueError:\n",
        "        return \"N/A\"\n",
        "\n",
        "def main():\n",
        "    try:\n",
        "        #認證服務帳戶\n",
        "        scope = ['https://spreadsheets.google.com/feeds',\n",
        "                 'https://www.googleapis.com/auth/drive']\n",
        "        creds = ServiceAccountCredentials.from_json_keyfile_name(SERVICE_ACCOUNT_KEY_FILE, scope)\n",
        "        client = gspread.authorize(creds)\n",
        "\n",
        "        #開啟 Google 試算表和工作表\n",
        "        spreadsheet = client.open(SPREADSHEET_NAME)\n",
        "        worksheet = spreadsheet.worksheet(WORKSHEET_NAME)\n",
        "\n",
        "        #讀取所有資料\n",
        "        records = worksheet.get_all_records()\n",
        "        headers = worksheet.row_values(1) # 獲取第一行的標題\n",
        "\n",
        "        print(f\"成功讀取 '{SPREADSHEET_NAME}' 的 '{WORKSHEET_NAME}' 工作表。\")\n",
        "        print(\"原始資料:\")\n",
        "        for record in records:\n",
        "            print(record)\n",
        "\n",
        "        # 找到總成績的欄位索引\n",
        "        try:\n",
        "            total_score_col_index = headers.index('總成績') + 1 # +1 因為 gspread 的欄位索引從 1 開始\n",
        "        except ValueError:\n",
        "            print(\"錯誤: 試算表中找不到 '總成績' 欄位。請檢查標題名稱。\")\n",
        "            return\n",
        "\n",
        "        updates = []\n",
        "        for i, record in enumerate(records):\n",
        "            row_num = i + 2 # 資料從第二行開始，所以行號是索引 + 2\n",
        "            平時成績 = record.get('平時成績')\n",
        "            期末成績 = record.get('期末成績')\n",
        "\n",
        "            if 平時成績 is not None and 期末成績 is not None:\n",
        "                total_score = calculate_total_score(平時成績, 期末成績)\n",
        "                if total_score != \"N/A\":\n",
        "                    # 將更新資訊儲存起來，一次性寫入以提高效率\n",
        "                    updates.append({\n",
        "                        'range': f'{gspread.utils.rowcol_to_a1(row_num, total_score_col_index)}',\n",
        "                        'values': [[str(total_score)]]\n",
        "                    })\n",
        "                    print(f\"計算學生 {record.get('姓名', '未知')} 的總成績為: {total_score}\")\n",
        "                else:\n",
        "                    print(f\"學生 {record.get('姓名', '未知')} 的平時成績或期末成績無效，無法計算總成績。\")\n",
        "            else:\n",
        "                print(f\"學生 {record.get('姓名', '未知')} 缺少平時成績或期末成績。\")\n",
        "\n",
        "        # 4. 回寫總成績到試算表\n",
        "        if updates:\n",
        "            worksheet.batch_update(updates)\n",
        "            print(\"總成績已成功回寫到 Google 試算表。\")\n",
        "        else:\n",
        "            print(\"沒有需要更新的總成績。\")\n",
        "\n",
        "    except gspread.exceptions.SpreadsheetNotFound:\n",
        "        print(f\"錯誤: 找不到名稱為 '{SPREADSHEET_NAME}' 的試算表。請確認名稱是否正確。\")\n",
        "    except gspread.exceptions.WorksheetNotFound:\n",
        "        print(f\"錯誤: 找不到名稱為 '{WORKSHEET_NAME}' 的工作表。請確認名稱是否正確。\")\n",
        "    except Exception as e:\n",
        "        print(f\"發生錯誤: {e}\")\n",
        "\n",
        "if __name__ == \"__main__\":\n",
        "    main()"
      ]
    }
  ]
}